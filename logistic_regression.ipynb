{
 "cells": [
  {
   "cell_type": "code",
   "execution_count": 183,
   "metadata": {},
   "outputs": [],
   "source": [
    "import numpy as np, pandas as pd\n",
    "import ast \n",
    "from sklearn import linear_model\n",
    "from sklearn import metrics\n",
    "from sklearn.cross_validation import train_test_split\n",
    "import warnings\n",
    "warnings.filterwarnings('ignore')"
   ]
  },
  {
   "cell_type": "code",
   "execution_count": 184,
   "metadata": {
    "collapsed": true
   },
   "outputs": [],
   "source": [
    "data = pd.read_csv(\"train_detect_sent.csv\")"
   ]
  },
  {
   "cell_type": "code",
   "execution_count": 185,
   "metadata": {},
   "outputs": [
    {
     "data": {
      "text/html": [
       "<div>\n",
       "<style scoped>\n",
       "    .dataframe tbody tr th:only-of-type {\n",
       "        vertical-align: middle;\n",
       "    }\n",
       "\n",
       "    .dataframe tbody tr th {\n",
       "        vertical-align: top;\n",
       "    }\n",
       "\n",
       "    .dataframe thead th {\n",
       "        text-align: right;\n",
       "    }\n",
       "</style>\n",
       "<table border=\"1\" class=\"dataframe\">\n",
       "  <thead>\n",
       "    <tr style=\"text-align: right;\">\n",
       "      <th></th>\n",
       "      <th>answer_start</th>\n",
       "      <th>context</th>\n",
       "      <th>question</th>\n",
       "      <th>text</th>\n",
       "      <th>sentences</th>\n",
       "      <th>target</th>\n",
       "      <th>sent_emb</th>\n",
       "      <th>quest_emb</th>\n",
       "      <th>cosine_sim</th>\n",
       "      <th>euclidean_dis</th>\n",
       "      <th>pred_idx_cos</th>\n",
       "      <th>pred_idx_euc</th>\n",
       "    </tr>\n",
       "  </thead>\n",
       "  <tbody>\n",
       "    <tr>\n",
       "      <th>0</th>\n",
       "      <td>515</td>\n",
       "      <td>Architecturally, the school has a Catholic cha...</td>\n",
       "      <td>To whom did the Virgin Mary allegedly appear i...</td>\n",
       "      <td>Saint Bernadette Soubirous</td>\n",
       "      <td>['Architecturally, the school has a Catholic c...</td>\n",
       "      <td>5</td>\n",
       "      <td>[array([ 0.05519997,  0.05013141,  0.04787038,...</td>\n",
       "      <td>[[ 0.1095634   0.11422941  0.04428943 ...  0.0...</td>\n",
       "      <td>[0.43262487532502947, 0.36864841025319484, 0.3...</td>\n",
       "      <td>[14.108409, 15.0115595, 18.043663, 13.160972, ...</td>\n",
       "      <td>5</td>\n",
       "      <td>5</td>\n",
       "    </tr>\n",
       "    <tr>\n",
       "      <th>1</th>\n",
       "      <td>188</td>\n",
       "      <td>Architecturally, the school has a Catholic cha...</td>\n",
       "      <td>What is in front of the Notre Dame Main Building?</td>\n",
       "      <td>a copper statue of Christ</td>\n",
       "      <td>['Architecturally, the school has a Catholic c...</td>\n",
       "      <td>2</td>\n",
       "      <td>[array([ 0.05519997,  0.05013141,  0.04787038,...</td>\n",
       "      <td>[[ 0.10951651  0.11030623  0.05210007 ... -0.0...</td>\n",
       "      <td>[0.45407456884452513, 0.32262004808444933, 0.3...</td>\n",
       "      <td>[12.889506, 12.285219, 16.843704, 8.361172, 11...</td>\n",
       "      <td>3</td>\n",
       "      <td>3</td>\n",
       "    </tr>\n",
       "    <tr>\n",
       "      <th>2</th>\n",
       "      <td>279</td>\n",
       "      <td>Architecturally, the school has a Catholic cha...</td>\n",
       "      <td>The Basilica of the Sacred heart at Notre Dame...</td>\n",
       "      <td>the Main Building</td>\n",
       "      <td>['Architecturally, the school has a Catholic c...</td>\n",
       "      <td>3</td>\n",
       "      <td>[array([ 0.05519997,  0.05013141,  0.04787038,...</td>\n",
       "      <td>[[ 0.00262268  0.14930707  0.03063984 ...  0.0...</td>\n",
       "      <td>[0.39596294272736, 0.3157232094505895, 0.34619...</td>\n",
       "      <td>[11.590836, 12.180486, 16.56459, 7.4446793, 9....</td>\n",
       "      <td>3</td>\n",
       "      <td>3</td>\n",
       "    </tr>\n",
       "  </tbody>\n",
       "</table>\n",
       "</div>"
      ],
      "text/plain": [
       "   answer_start                                            context  \\\n",
       "0           515  Architecturally, the school has a Catholic cha...   \n",
       "1           188  Architecturally, the school has a Catholic cha...   \n",
       "2           279  Architecturally, the school has a Catholic cha...   \n",
       "\n",
       "                                            question  \\\n",
       "0  To whom did the Virgin Mary allegedly appear i...   \n",
       "1  What is in front of the Notre Dame Main Building?   \n",
       "2  The Basilica of the Sacred heart at Notre Dame...   \n",
       "\n",
       "                         text  \\\n",
       "0  Saint Bernadette Soubirous   \n",
       "1   a copper statue of Christ   \n",
       "2           the Main Building   \n",
       "\n",
       "                                           sentences  target  \\\n",
       "0  ['Architecturally, the school has a Catholic c...       5   \n",
       "1  ['Architecturally, the school has a Catholic c...       2   \n",
       "2  ['Architecturally, the school has a Catholic c...       3   \n",
       "\n",
       "                                            sent_emb  \\\n",
       "0  [array([ 0.05519997,  0.05013141,  0.04787038,...   \n",
       "1  [array([ 0.05519997,  0.05013141,  0.04787038,...   \n",
       "2  [array([ 0.05519997,  0.05013141,  0.04787038,...   \n",
       "\n",
       "                                           quest_emb  \\\n",
       "0  [[ 0.1095634   0.11422941  0.04428943 ...  0.0...   \n",
       "1  [[ 0.10951651  0.11030623  0.05210007 ... -0.0...   \n",
       "2  [[ 0.00262268  0.14930707  0.03063984 ...  0.0...   \n",
       "\n",
       "                                          cosine_sim  \\\n",
       "0  [0.43262487532502947, 0.36864841025319484, 0.3...   \n",
       "1  [0.45407456884452513, 0.32262004808444933, 0.3...   \n",
       "2  [0.39596294272736, 0.3157232094505895, 0.34619...   \n",
       "\n",
       "                                       euclidean_dis  pred_idx_cos  \\\n",
       "0  [14.108409, 15.0115595, 18.043663, 13.160972, ...             5   \n",
       "1  [12.889506, 12.285219, 16.843704, 8.361172, 11...             3   \n",
       "2  [11.590836, 12.180486, 16.56459, 7.4446793, 9....             3   \n",
       "\n",
       "   pred_idx_euc  \n",
       "0             5  \n",
       "1             3  \n",
       "2             3  "
      ]
     },
     "execution_count": 185,
     "metadata": {},
     "output_type": "execute_result"
    }
   ],
   "source": [
    "data.head(3)"
   ]
  },
  {
   "cell_type": "code",
   "execution_count": 186,
   "metadata": {},
   "outputs": [
    {
     "data": {
      "text/plain": [
       "['Architecturally, the school has a Catholic character.',\n",
       " \"Atop the Main Building's gold dome is a golden statue of the Virgin Mary.\",\n",
       " 'Immediately in front of the Main Building and facing it, is a copper statue of Christ with arms upraised with the legend \"Venite Ad Me Omnes\".',\n",
       " 'Next to the Main Building is the Basilica of the Sacred Heart.',\n",
       " 'Immediately behind the basilica is the Grotto, a Marian place of prayer and reflection.',\n",
       " 'It is a replica of the grotto at Lourdes, France where the Virgin Mary reputedly appeared to Saint Bernadette Soubirous in 1858.',\n",
       " 'At the end of the main drive (and in a direct line that connects through 3 statues and the Gold Dome), is a simple, modern stone statue of Mary.']"
      ]
     },
     "execution_count": 186,
     "metadata": {},
     "output_type": "execute_result"
    }
   ],
   "source": [
    "ast.literal_eval(data[\"sentences\"][0])"
   ]
  },
  {
   "cell_type": "code",
   "execution_count": 187,
   "metadata": {},
   "outputs": [],
   "source": [
    "data = data[data[\"sentences\"].apply(lambda x: len(ast.literal_eval(x)))<11].reset_index(drop=True)"
   ]
  },
  {
   "cell_type": "code",
   "execution_count": 188,
   "metadata": {},
   "outputs": [],
   "source": [
    "def create_features(data):\n",
    "    train = pd.DataFrame()\n",
    "     \n",
    "    for k in range(len(data[\"euclidean_dis\"])):\n",
    "        dis = ast.literal_eval(data[\"euclidean_dis\"][k])\n",
    "        for i in range(len(dis)):\n",
    "            train.loc[k, \"column_euc_\"+\"%s\"%i] = dis[i]\n",
    "    \n",
    "    print(\"Finished\")\n",
    "    \n",
    "    for k in range(len(data[\"cosine_sim\"])):\n",
    "        dis = ast.literal_eval(data[\"cosine_sim\"][k].replace(\"nan\",\"10000\"))\n",
    "        for i in range(len(dis)):\n",
    "            train.loc[k, \"column_cos_\"+\"%s\"%i] = dis[i]\n",
    "            \n",
    "    train[\"target\"] = data[\"target\"]\n",
    "    return train"
   ]
  },
  {
   "cell_type": "code",
   "execution_count": 189,
   "metadata": {},
   "outputs": [
    {
     "name": "stdout",
     "output_type": "stream",
     "text": [
      "Finished\n"
     ]
    }
   ],
   "source": [
    "train = create_features(data)"
   ]
  },
  {
   "cell_type": "code",
   "execution_count": 190,
   "metadata": {},
   "outputs": [
    {
     "data": {
      "text/html": [
       "<div>\n",
       "<style scoped>\n",
       "    .dataframe tbody tr th:only-of-type {\n",
       "        vertical-align: middle;\n",
       "    }\n",
       "\n",
       "    .dataframe tbody tr th {\n",
       "        vertical-align: top;\n",
       "    }\n",
       "\n",
       "    .dataframe thead th {\n",
       "        text-align: right;\n",
       "    }\n",
       "</style>\n",
       "<table border=\"1\" class=\"dataframe\">\n",
       "  <thead>\n",
       "    <tr style=\"text-align: right;\">\n",
       "      <th></th>\n",
       "      <th>column_euc_0</th>\n",
       "      <th>column_euc_1</th>\n",
       "      <th>column_euc_2</th>\n",
       "      <th>column_euc_3</th>\n",
       "      <th>column_euc_4</th>\n",
       "      <th>column_euc_5</th>\n",
       "      <th>column_euc_6</th>\n",
       "      <th>column_euc_7</th>\n",
       "      <th>column_euc_8</th>\n",
       "      <th>column_euc_9</th>\n",
       "      <th>...</th>\n",
       "      <th>column_cos_1</th>\n",
       "      <th>column_cos_2</th>\n",
       "      <th>column_cos_3</th>\n",
       "      <th>column_cos_4</th>\n",
       "      <th>column_cos_5</th>\n",
       "      <th>column_cos_6</th>\n",
       "      <th>column_cos_7</th>\n",
       "      <th>column_cos_8</th>\n",
       "      <th>column_cos_9</th>\n",
       "      <th>target</th>\n",
       "    </tr>\n",
       "  </thead>\n",
       "  <tbody>\n",
       "    <tr>\n",
       "      <th>0</th>\n",
       "      <td>14.108409</td>\n",
       "      <td>15.011560</td>\n",
       "      <td>18.043663</td>\n",
       "      <td>13.160972</td>\n",
       "      <td>12.855492</td>\n",
       "      <td>9.627245</td>\n",
       "      <td>15.943851</td>\n",
       "      <td>NaN</td>\n",
       "      <td>NaN</td>\n",
       "      <td>NaN</td>\n",
       "      <td>...</td>\n",
       "      <td>0.368648</td>\n",
       "      <td>0.367699</td>\n",
       "      <td>0.379501</td>\n",
       "      <td>0.374212</td>\n",
       "      <td>0.193091</td>\n",
       "      <td>0.365788</td>\n",
       "      <td>NaN</td>\n",
       "      <td>NaN</td>\n",
       "      <td>NaN</td>\n",
       "      <td>5</td>\n",
       "    </tr>\n",
       "    <tr>\n",
       "      <th>1</th>\n",
       "      <td>12.889506</td>\n",
       "      <td>12.285219</td>\n",
       "      <td>16.843704</td>\n",
       "      <td>8.361172</td>\n",
       "      <td>11.918098</td>\n",
       "      <td>17.601221</td>\n",
       "      <td>14.929258</td>\n",
       "      <td>NaN</td>\n",
       "      <td>NaN</td>\n",
       "      <td>NaN</td>\n",
       "      <td>...</td>\n",
       "      <td>0.322620</td>\n",
       "      <td>0.355004</td>\n",
       "      <td>0.271561</td>\n",
       "      <td>0.392342</td>\n",
       "      <td>0.384383</td>\n",
       "      <td>0.362597</td>\n",
       "      <td>NaN</td>\n",
       "      <td>NaN</td>\n",
       "      <td>NaN</td>\n",
       "      <td>2</td>\n",
       "    </tr>\n",
       "    <tr>\n",
       "      <th>2</th>\n",
       "      <td>11.590836</td>\n",
       "      <td>12.180486</td>\n",
       "      <td>16.564590</td>\n",
       "      <td>7.444679</td>\n",
       "      <td>9.165415</td>\n",
       "      <td>14.745420</td>\n",
       "      <td>13.291000</td>\n",
       "      <td>NaN</td>\n",
       "      <td>NaN</td>\n",
       "      <td>NaN</td>\n",
       "      <td>...</td>\n",
       "      <td>0.315723</td>\n",
       "      <td>0.346192</td>\n",
       "      <td>0.235901</td>\n",
       "      <td>0.294102</td>\n",
       "      <td>0.313559</td>\n",
       "      <td>0.317138</td>\n",
       "      <td>NaN</td>\n",
       "      <td>NaN</td>\n",
       "      <td>NaN</td>\n",
       "      <td>3</td>\n",
       "    </tr>\n",
       "  </tbody>\n",
       "</table>\n",
       "<p>3 rows × 21 columns</p>\n",
       "</div>"
      ],
      "text/plain": [
       "   column_euc_0  column_euc_1  column_euc_2  column_euc_3  column_euc_4  \\\n",
       "0     14.108409     15.011560     18.043663     13.160972     12.855492   \n",
       "1     12.889506     12.285219     16.843704      8.361172     11.918098   \n",
       "2     11.590836     12.180486     16.564590      7.444679      9.165415   \n",
       "\n",
       "   column_euc_5  column_euc_6  column_euc_7  column_euc_8  column_euc_9  \\\n",
       "0      9.627245     15.943851           NaN           NaN           NaN   \n",
       "1     17.601221     14.929258           NaN           NaN           NaN   \n",
       "2     14.745420     13.291000           NaN           NaN           NaN   \n",
       "\n",
       "    ...    column_cos_1  column_cos_2  column_cos_3  column_cos_4  \\\n",
       "0   ...        0.368648      0.367699      0.379501      0.374212   \n",
       "1   ...        0.322620      0.355004      0.271561      0.392342   \n",
       "2   ...        0.315723      0.346192      0.235901      0.294102   \n",
       "\n",
       "   column_cos_5  column_cos_6  column_cos_7  column_cos_8  column_cos_9  \\\n",
       "0      0.193091      0.365788           NaN           NaN           NaN   \n",
       "1      0.384383      0.362597           NaN           NaN           NaN   \n",
       "2      0.313559      0.317138           NaN           NaN           NaN   \n",
       "\n",
       "   target  \n",
       "0       5  \n",
       "1       2  \n",
       "2       3  \n",
       "\n",
       "[3 rows x 21 columns]"
      ]
     },
     "execution_count": 190,
     "metadata": {},
     "output_type": "execute_result"
    }
   ],
   "source": [
    "train.head(3)"
   ]
  },
  {
   "cell_type": "code",
   "execution_count": 191,
   "metadata": {},
   "outputs": [],
   "source": [
    "train.fillna(10000, inplace=True)"
   ]
  },
  {
   "cell_type": "code",
   "execution_count": 192,
   "metadata": {},
   "outputs": [
    {
     "data": {
      "text/html": [
       "<div>\n",
       "<style scoped>\n",
       "    .dataframe tbody tr th:only-of-type {\n",
       "        vertical-align: middle;\n",
       "    }\n",
       "\n",
       "    .dataframe tbody tr th {\n",
       "        vertical-align: top;\n",
       "    }\n",
       "\n",
       "    .dataframe thead th {\n",
       "        text-align: right;\n",
       "    }\n",
       "</style>\n",
       "<table border=\"1\" class=\"dataframe\">\n",
       "  <thead>\n",
       "    <tr style=\"text-align: right;\">\n",
       "      <th></th>\n",
       "      <th>0</th>\n",
       "      <th>1</th>\n",
       "      <th>2</th>\n",
       "    </tr>\n",
       "  </thead>\n",
       "  <tbody>\n",
       "    <tr>\n",
       "      <th>column_euc_0</th>\n",
       "      <td>14.108409</td>\n",
       "      <td>12.889506</td>\n",
       "      <td>11.590836</td>\n",
       "    </tr>\n",
       "    <tr>\n",
       "      <th>column_euc_1</th>\n",
       "      <td>15.011560</td>\n",
       "      <td>12.285219</td>\n",
       "      <td>12.180486</td>\n",
       "    </tr>\n",
       "    <tr>\n",
       "      <th>column_euc_2</th>\n",
       "      <td>18.043663</td>\n",
       "      <td>16.843704</td>\n",
       "      <td>16.564590</td>\n",
       "    </tr>\n",
       "    <tr>\n",
       "      <th>column_euc_3</th>\n",
       "      <td>13.160972</td>\n",
       "      <td>8.361172</td>\n",
       "      <td>7.444679</td>\n",
       "    </tr>\n",
       "    <tr>\n",
       "      <th>column_euc_4</th>\n",
       "      <td>12.855492</td>\n",
       "      <td>11.918098</td>\n",
       "      <td>9.165415</td>\n",
       "    </tr>\n",
       "    <tr>\n",
       "      <th>column_euc_5</th>\n",
       "      <td>9.627245</td>\n",
       "      <td>17.601221</td>\n",
       "      <td>14.745420</td>\n",
       "    </tr>\n",
       "    <tr>\n",
       "      <th>column_euc_6</th>\n",
       "      <td>15.943851</td>\n",
       "      <td>14.929258</td>\n",
       "      <td>13.291000</td>\n",
       "    </tr>\n",
       "    <tr>\n",
       "      <th>column_euc_7</th>\n",
       "      <td>10000.000000</td>\n",
       "      <td>10000.000000</td>\n",
       "      <td>10000.000000</td>\n",
       "    </tr>\n",
       "    <tr>\n",
       "      <th>column_euc_8</th>\n",
       "      <td>10000.000000</td>\n",
       "      <td>10000.000000</td>\n",
       "      <td>10000.000000</td>\n",
       "    </tr>\n",
       "    <tr>\n",
       "      <th>column_euc_9</th>\n",
       "      <td>10000.000000</td>\n",
       "      <td>10000.000000</td>\n",
       "      <td>10000.000000</td>\n",
       "    </tr>\n",
       "    <tr>\n",
       "      <th>column_cos_0</th>\n",
       "      <td>0.432625</td>\n",
       "      <td>0.454075</td>\n",
       "      <td>0.395963</td>\n",
       "    </tr>\n",
       "    <tr>\n",
       "      <th>column_cos_1</th>\n",
       "      <td>0.368648</td>\n",
       "      <td>0.322620</td>\n",
       "      <td>0.315723</td>\n",
       "    </tr>\n",
       "    <tr>\n",
       "      <th>column_cos_2</th>\n",
       "      <td>0.367699</td>\n",
       "      <td>0.355004</td>\n",
       "      <td>0.346192</td>\n",
       "    </tr>\n",
       "    <tr>\n",
       "      <th>column_cos_3</th>\n",
       "      <td>0.379501</td>\n",
       "      <td>0.271561</td>\n",
       "      <td>0.235901</td>\n",
       "    </tr>\n",
       "    <tr>\n",
       "      <th>column_cos_4</th>\n",
       "      <td>0.374212</td>\n",
       "      <td>0.392342</td>\n",
       "      <td>0.294102</td>\n",
       "    </tr>\n",
       "    <tr>\n",
       "      <th>column_cos_5</th>\n",
       "      <td>0.193091</td>\n",
       "      <td>0.384383</td>\n",
       "      <td>0.313559</td>\n",
       "    </tr>\n",
       "    <tr>\n",
       "      <th>column_cos_6</th>\n",
       "      <td>0.365788</td>\n",
       "      <td>0.362597</td>\n",
       "      <td>0.317138</td>\n",
       "    </tr>\n",
       "    <tr>\n",
       "      <th>column_cos_7</th>\n",
       "      <td>10000.000000</td>\n",
       "      <td>10000.000000</td>\n",
       "      <td>10000.000000</td>\n",
       "    </tr>\n",
       "    <tr>\n",
       "      <th>column_cos_8</th>\n",
       "      <td>10000.000000</td>\n",
       "      <td>10000.000000</td>\n",
       "      <td>10000.000000</td>\n",
       "    </tr>\n",
       "    <tr>\n",
       "      <th>column_cos_9</th>\n",
       "      <td>10000.000000</td>\n",
       "      <td>10000.000000</td>\n",
       "      <td>10000.000000</td>\n",
       "    </tr>\n",
       "    <tr>\n",
       "      <th>target</th>\n",
       "      <td>5.000000</td>\n",
       "      <td>2.000000</td>\n",
       "      <td>3.000000</td>\n",
       "    </tr>\n",
       "  </tbody>\n",
       "</table>\n",
       "</div>"
      ],
      "text/plain": [
       "                         0             1             2\n",
       "column_euc_0     14.108409     12.889506     11.590836\n",
       "column_euc_1     15.011560     12.285219     12.180486\n",
       "column_euc_2     18.043663     16.843704     16.564590\n",
       "column_euc_3     13.160972      8.361172      7.444679\n",
       "column_euc_4     12.855492     11.918098      9.165415\n",
       "column_euc_5      9.627245     17.601221     14.745420\n",
       "column_euc_6     15.943851     14.929258     13.291000\n",
       "column_euc_7  10000.000000  10000.000000  10000.000000\n",
       "column_euc_8  10000.000000  10000.000000  10000.000000\n",
       "column_euc_9  10000.000000  10000.000000  10000.000000\n",
       "column_cos_0      0.432625      0.454075      0.395963\n",
       "column_cos_1      0.368648      0.322620      0.315723\n",
       "column_cos_2      0.367699      0.355004      0.346192\n",
       "column_cos_3      0.379501      0.271561      0.235901\n",
       "column_cos_4      0.374212      0.392342      0.294102\n",
       "column_cos_5      0.193091      0.384383      0.313559\n",
       "column_cos_6      0.365788      0.362597      0.317138\n",
       "column_cos_7  10000.000000  10000.000000  10000.000000\n",
       "column_cos_8  10000.000000  10000.000000  10000.000000\n",
       "column_cos_9  10000.000000  10000.000000  10000.000000\n",
       "target            5.000000      2.000000      3.000000"
      ]
     },
     "execution_count": 192,
     "metadata": {},
     "output_type": "execute_result"
    }
   ],
   "source": [
    "train.head(3).transpose()"
   ]
  },
  {
   "cell_type": "markdown",
   "metadata": {},
   "source": [
    "### Fitting Multinomial Logistic Regression"
   ]
  },
  {
   "cell_type": "code",
   "execution_count": 201,
   "metadata": {
    "collapsed": true
   },
   "outputs": [],
   "source": [
    "train_x, test_x, train_y, test_y = train_test_split(train.iloc[:,:-1],\n",
    "train.iloc[:,-1], train_size=0.9, random_state = 5)"
   ]
  },
  {
   "cell_type": "code",
   "execution_count": 202,
   "metadata": {},
   "outputs": [
    {
     "name": "stdout",
     "output_type": "stream",
     "text": [
      "Multinomial Logistic regression Train Accuracy :  0.42735042735042733\n",
      "Multinomial Logistic regression Test Accuracy :  0.38461538461538464\n"
     ]
    }
   ],
   "source": [
    "# Train multinomial logistic regression model\n",
    "mul_lr = linear_model.LogisticRegression(multi_class='multinomial', solver='newton-cg', C=100)\n",
    "mul_lr.fit(train_x, train_y)\n",
    "\n",
    "print(\"Multinomial Logistic regression Train Accuracy : \", metrics.accuracy_score(train_y, mul_lr.predict(train_x)))\n",
    "print(\"Multinomial Logistic regression Test Accuracy : \", metrics.accuracy_score(test_y, mul_lr.predict(test_x)))\n"
   ]
  },
  {
   "cell_type": "code",
   "execution_count": null,
   "metadata": {
    "collapsed": true
   },
   "outputs": [],
   "source": []
  },
  {
   "cell_type": "code",
   "execution_count": null,
   "metadata": {
    "collapsed": true
   },
   "outputs": [],
   "source": []
  },
  {
   "cell_type": "code",
   "execution_count": null,
   "metadata": {
    "collapsed": true
   },
   "outputs": [],
   "source": []
  },
  {
   "cell_type": "code",
   "execution_count": null,
   "metadata": {
    "collapsed": true
   },
   "outputs": [],
   "source": []
  },
  {
   "cell_type": "code",
   "execution_count": null,
   "metadata": {
    "collapsed": true
   },
   "outputs": [],
   "source": []
  },
  {
   "cell_type": "code",
   "execution_count": null,
   "metadata": {
    "collapsed": true
   },
   "outputs": [],
   "source": []
  },
  {
   "cell_type": "code",
   "execution_count": null,
   "metadata": {
    "collapsed": true
   },
   "outputs": [],
   "source": []
  },
  {
   "cell_type": "code",
   "execution_count": null,
   "metadata": {
    "collapsed": true
   },
   "outputs": [],
   "source": []
  },
  {
   "cell_type": "code",
   "execution_count": null,
   "metadata": {
    "collapsed": true
   },
   "outputs": [],
   "source": []
  },
  {
   "cell_type": "code",
   "execution_count": null,
   "metadata": {
    "collapsed": true
   },
   "outputs": [],
   "source": []
  },
  {
   "cell_type": "code",
   "execution_count": null,
   "metadata": {
    "collapsed": true
   },
   "outputs": [],
   "source": []
  },
  {
   "cell_type": "code",
   "execution_count": null,
   "metadata": {
    "collapsed": true
   },
   "outputs": [],
   "source": []
  },
  {
   "cell_type": "code",
   "execution_count": null,
   "metadata": {
    "collapsed": true
   },
   "outputs": [],
   "source": []
  }
 ],
 "metadata": {
  "hide_input": false,
  "kernelspec": {
   "display_name": "Python 3",
   "language": "python",
   "name": "python3"
  },
  "language_info": {
   "codemirror_mode": {
    "name": "ipython",
    "version": 3
   },
   "file_extension": ".py",
   "mimetype": "text/x-python",
   "name": "python",
   "nbconvert_exporter": "python",
   "pygments_lexer": "ipython3",
   "version": "3.6.3"
  }
 },
 "nbformat": 4,
 "nbformat_minor": 2
}
