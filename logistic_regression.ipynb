{
 "cells": [
  {
   "cell_type": "code",
   "execution_count": 1,
   "metadata": {},
   "outputs": [
    {
     "name": "stderr",
     "output_type": "stream",
     "text": [
      "/Users/alvira/anaconda2/envs/fastai/lib/python3.6/site-packages/sklearn/cross_validation.py:41: DeprecationWarning: This module was deprecated in version 0.18 in favor of the model_selection module into which all the refactored classes and functions are moved. Also note that the interface of the new CV iterators are different from that of this module. This module will be removed in 0.20.\n",
      "  \"This module will be removed in 0.20.\", DeprecationWarning)\n"
     ]
    }
   ],
   "source": [
    "import numpy as np, pandas as pd\n",
    "import ast \n",
    "from sklearn import linear_model\n",
    "from sklearn import metrics\n",
    "from sklearn.cross_validation import train_test_split\n",
    "import warnings\n",
    "warnings.filterwarnings('ignore')"
   ]
  },
  {
   "cell_type": "code",
   "execution_count": 2,
   "metadata": {
    "collapsed": true
   },
   "outputs": [],
   "source": [
    "data = pd.read_csv(\"train_detect_sent.csv\")"
   ]
  },
  {
   "cell_type": "code",
   "execution_count": 9,
   "metadata": {},
   "outputs": [
    {
     "data": {
      "text/plain": [
       "(85119, 12)"
      ]
     },
     "execution_count": 9,
     "metadata": {},
     "output_type": "execute_result"
    }
   ],
   "source": [
    "data.shape"
   ]
  },
  {
   "cell_type": "code",
   "execution_count": 3,
   "metadata": {},
   "outputs": [
    {
     "data": {
      "text/html": [
       "<div>\n",
       "<style scoped>\n",
       "    .dataframe tbody tr th:only-of-type {\n",
       "        vertical-align: middle;\n",
       "    }\n",
       "\n",
       "    .dataframe tbody tr th {\n",
       "        vertical-align: top;\n",
       "    }\n",
       "\n",
       "    .dataframe thead th {\n",
       "        text-align: right;\n",
       "    }\n",
       "</style>\n",
       "<table border=\"1\" class=\"dataframe\">\n",
       "  <thead>\n",
       "    <tr style=\"text-align: right;\">\n",
       "      <th></th>\n",
       "      <th>answer_start</th>\n",
       "      <th>context</th>\n",
       "      <th>question</th>\n",
       "      <th>text</th>\n",
       "      <th>sentences</th>\n",
       "      <th>quest_emb</th>\n",
       "      <th>target</th>\n",
       "      <th>sent_emb</th>\n",
       "      <th>cosine_sim</th>\n",
       "      <th>euclidean_dis</th>\n",
       "      <th>pred_idx_cos</th>\n",
       "      <th>pred_idx_euc</th>\n",
       "    </tr>\n",
       "  </thead>\n",
       "  <tbody>\n",
       "    <tr>\n",
       "      <th>0</th>\n",
       "      <td>515</td>\n",
       "      <td>Architecturally, the school has a Catholic cha...</td>\n",
       "      <td>To whom did the Virgin Mary allegedly appear i...</td>\n",
       "      <td>Saint Bernadette Soubirous</td>\n",
       "      <td>['Architecturally, the school has a Catholic c...</td>\n",
       "      <td>[[ 0.11010079  0.11422941  0.11560896 ...  0.0...</td>\n",
       "      <td>5</td>\n",
       "      <td>[array([ 0.05519997,  0.05013141,  0.04787038,...</td>\n",
       "      <td>[0.424736299052452, 0.36405004106069117, 0.347...</td>\n",
       "      <td>[14.563858, 15.262212, 17.398178, 14.272491, 1...</td>\n",
       "      <td>5</td>\n",
       "      <td>5</td>\n",
       "    </tr>\n",
       "    <tr>\n",
       "      <th>1</th>\n",
       "      <td>188</td>\n",
       "      <td>Architecturally, the school has a Catholic cha...</td>\n",
       "      <td>What is in front of the Notre Dame Main Building?</td>\n",
       "      <td>a copper statue of Christ</td>\n",
       "      <td>['Architecturally, the school has a Catholic c...</td>\n",
       "      <td>[[ 0.10951651  0.11030623  0.05210007 ... -0.0...</td>\n",
       "      <td>2</td>\n",
       "      <td>[array([ 0.05519997,  0.05013141,  0.04787038,...</td>\n",
       "      <td>[0.45407456884452513, 0.32262004808444933, 0.3...</td>\n",
       "      <td>[12.889506, 12.285219, 16.843704, 8.361172, 11...</td>\n",
       "      <td>3</td>\n",
       "      <td>3</td>\n",
       "    </tr>\n",
       "    <tr>\n",
       "      <th>2</th>\n",
       "      <td>279</td>\n",
       "      <td>Architecturally, the school has a Catholic cha...</td>\n",
       "      <td>The Basilica of the Sacred heart at Notre Dame...</td>\n",
       "      <td>the Main Building</td>\n",
       "      <td>['Architecturally, the school has a Catholic c...</td>\n",
       "      <td>[[ 0.01195647  0.14930707  0.02660049 ...  0.0...</td>\n",
       "      <td>3</td>\n",
       "      <td>[array([ 0.05519997,  0.05013141,  0.04787038,...</td>\n",
       "      <td>[0.39585783692319865, 0.29170832145169434, 0.3...</td>\n",
       "      <td>[11.857297, 11.392319, 15.061656, 7.1847134, 8...</td>\n",
       "      <td>3</td>\n",
       "      <td>3</td>\n",
       "    </tr>\n",
       "  </tbody>\n",
       "</table>\n",
       "</div>"
      ],
      "text/plain": [
       "   answer_start                                            context  \\\n",
       "0           515  Architecturally, the school has a Catholic cha...   \n",
       "1           188  Architecturally, the school has a Catholic cha...   \n",
       "2           279  Architecturally, the school has a Catholic cha...   \n",
       "\n",
       "                                            question  \\\n",
       "0  To whom did the Virgin Mary allegedly appear i...   \n",
       "1  What is in front of the Notre Dame Main Building?   \n",
       "2  The Basilica of the Sacred heart at Notre Dame...   \n",
       "\n",
       "                         text  \\\n",
       "0  Saint Bernadette Soubirous   \n",
       "1   a copper statue of Christ   \n",
       "2           the Main Building   \n",
       "\n",
       "                                           sentences  \\\n",
       "0  ['Architecturally, the school has a Catholic c...   \n",
       "1  ['Architecturally, the school has a Catholic c...   \n",
       "2  ['Architecturally, the school has a Catholic c...   \n",
       "\n",
       "                                           quest_emb  target  \\\n",
       "0  [[ 0.11010079  0.11422941  0.11560896 ...  0.0...       5   \n",
       "1  [[ 0.10951651  0.11030623  0.05210007 ... -0.0...       2   \n",
       "2  [[ 0.01195647  0.14930707  0.02660049 ...  0.0...       3   \n",
       "\n",
       "                                            sent_emb  \\\n",
       "0  [array([ 0.05519997,  0.05013141,  0.04787038,...   \n",
       "1  [array([ 0.05519997,  0.05013141,  0.04787038,...   \n",
       "2  [array([ 0.05519997,  0.05013141,  0.04787038,...   \n",
       "\n",
       "                                          cosine_sim  \\\n",
       "0  [0.424736299052452, 0.36405004106069117, 0.347...   \n",
       "1  [0.45407456884452513, 0.32262004808444933, 0.3...   \n",
       "2  [0.39585783692319865, 0.29170832145169434, 0.3...   \n",
       "\n",
       "                                       euclidean_dis  pred_idx_cos  \\\n",
       "0  [14.563858, 15.262212, 17.398178, 14.272491, 1...             5   \n",
       "1  [12.889506, 12.285219, 16.843704, 8.361172, 11...             3   \n",
       "2  [11.857297, 11.392319, 15.061656, 7.1847134, 8...             3   \n",
       "\n",
       "   pred_idx_euc  \n",
       "0             5  \n",
       "1             3  \n",
       "2             3  "
      ]
     },
     "execution_count": 3,
     "metadata": {},
     "output_type": "execute_result"
    }
   ],
   "source": [
    "data.head(3)"
   ]
  },
  {
   "cell_type": "code",
   "execution_count": 4,
   "metadata": {},
   "outputs": [
    {
     "data": {
      "text/plain": [
       "['Architecturally, the school has a Catholic character.',\n",
       " \"Atop the Main Building's gold dome is a golden statue of the Virgin Mary.\",\n",
       " 'Immediately in front of the Main Building and facing it, is a copper statue of Christ with arms upraised with the legend \"Venite Ad Me Omnes\".',\n",
       " 'Next to the Main Building is the Basilica of the Sacred Heart.',\n",
       " 'Immediately behind the basilica is the Grotto, a Marian place of prayer and reflection.',\n",
       " 'It is a replica of the grotto at Lourdes, France where the Virgin Mary reputedly appeared to Saint Bernadette Soubirous in 1858.',\n",
       " 'At the end of the main drive (and in a direct line that connects through 3 statues and the Gold Dome), is a simple, modern stone statue of Mary.']"
      ]
     },
     "execution_count": 4,
     "metadata": {},
     "output_type": "execute_result"
    }
   ],
   "source": [
    "ast.literal_eval(data[\"sentences\"][0])"
   ]
  },
  {
   "cell_type": "code",
   "execution_count": 5,
   "metadata": {
    "collapsed": true
   },
   "outputs": [],
   "source": [
    "data = data[data[\"sentences\"].apply(lambda x: len(ast.literal_eval(x)))<11].reset_index(drop=True)"
   ]
  },
  {
   "cell_type": "code",
   "execution_count": 6,
   "metadata": {
    "collapsed": true
   },
   "outputs": [],
   "source": [
    "def create_features(data):\n",
    "    train = pd.DataFrame()\n",
    "     \n",
    "    for k in range(len(data[\"euclidean_dis\"])):\n",
    "        dis = ast.literal_eval(data[\"euclidean_dis\"][k])\n",
    "        for i in range(len(dis)):\n",
    "            train.loc[k, \"column_euc_\"+\"%s\"%i] = dis[i]\n",
    "    \n",
    "    print(\"Finished\")\n",
    "    \n",
    "    for k in range(len(data[\"cosine_sim\"])):\n",
    "        dis = ast.literal_eval(data[\"cosine_sim\"][k].replace(\"nan\",\"10000\"))\n",
    "        for i in range(len(dis)):\n",
    "            train.loc[k, \"column_cos_\"+\"%s\"%i] = dis[i]\n",
    "            \n",
    "    train[\"target\"] = data[\"target\"]\n",
    "    return train"
   ]
  },
  {
   "cell_type": "code",
   "execution_count": 7,
   "metadata": {},
   "outputs": [
    {
     "name": "stdout",
     "output_type": "stream",
     "text": [
      "Finished\n"
     ]
    }
   ],
   "source": [
    "train = create_features(data)"
   ]
  },
  {
   "cell_type": "code",
   "execution_count": 10,
   "metadata": {
    "collapsed": true
   },
   "outputs": [],
   "source": [
    "del data"
   ]
  },
  {
   "cell_type": "code",
   "execution_count": 8,
   "metadata": {},
   "outputs": [
    {
     "data": {
      "text/html": [
       "<div>\n",
       "<style scoped>\n",
       "    .dataframe tbody tr th:only-of-type {\n",
       "        vertical-align: middle;\n",
       "    }\n",
       "\n",
       "    .dataframe tbody tr th {\n",
       "        vertical-align: top;\n",
       "    }\n",
       "\n",
       "    .dataframe thead th {\n",
       "        text-align: right;\n",
       "    }\n",
       "</style>\n",
       "<table border=\"1\" class=\"dataframe\">\n",
       "  <thead>\n",
       "    <tr style=\"text-align: right;\">\n",
       "      <th></th>\n",
       "      <th>column_euc_0</th>\n",
       "      <th>column_euc_1</th>\n",
       "      <th>column_euc_2</th>\n",
       "      <th>column_euc_3</th>\n",
       "      <th>column_euc_4</th>\n",
       "      <th>column_euc_5</th>\n",
       "      <th>column_euc_6</th>\n",
       "      <th>column_euc_7</th>\n",
       "      <th>column_euc_8</th>\n",
       "      <th>column_euc_9</th>\n",
       "      <th>...</th>\n",
       "      <th>column_cos_1</th>\n",
       "      <th>column_cos_2</th>\n",
       "      <th>column_cos_3</th>\n",
       "      <th>column_cos_4</th>\n",
       "      <th>column_cos_5</th>\n",
       "      <th>column_cos_6</th>\n",
       "      <th>column_cos_7</th>\n",
       "      <th>column_cos_8</th>\n",
       "      <th>column_cos_9</th>\n",
       "      <th>target</th>\n",
       "    </tr>\n",
       "  </thead>\n",
       "  <tbody>\n",
       "    <tr>\n",
       "      <th>0</th>\n",
       "      <td>14.563858</td>\n",
       "      <td>15.262212</td>\n",
       "      <td>17.398178</td>\n",
       "      <td>14.272491</td>\n",
       "      <td>13.339654</td>\n",
       "      <td>9.336262</td>\n",
       "      <td>15.720997</td>\n",
       "      <td>NaN</td>\n",
       "      <td>NaN</td>\n",
       "      <td>NaN</td>\n",
       "      <td>...</td>\n",
       "      <td>0.364050</td>\n",
       "      <td>0.347755</td>\n",
       "      <td>0.394242</td>\n",
       "      <td>0.371025</td>\n",
       "      <td>0.185690</td>\n",
       "      <td>0.351921</td>\n",
       "      <td>NaN</td>\n",
       "      <td>NaN</td>\n",
       "      <td>NaN</td>\n",
       "      <td>5</td>\n",
       "    </tr>\n",
       "    <tr>\n",
       "      <th>1</th>\n",
       "      <td>12.889506</td>\n",
       "      <td>12.285219</td>\n",
       "      <td>16.843704</td>\n",
       "      <td>8.361172</td>\n",
       "      <td>11.918098</td>\n",
       "      <td>17.601221</td>\n",
       "      <td>14.929258</td>\n",
       "      <td>NaN</td>\n",
       "      <td>NaN</td>\n",
       "      <td>NaN</td>\n",
       "      <td>...</td>\n",
       "      <td>0.322620</td>\n",
       "      <td>0.355004</td>\n",
       "      <td>0.271561</td>\n",
       "      <td>0.392342</td>\n",
       "      <td>0.384383</td>\n",
       "      <td>0.362597</td>\n",
       "      <td>NaN</td>\n",
       "      <td>NaN</td>\n",
       "      <td>NaN</td>\n",
       "      <td>2</td>\n",
       "    </tr>\n",
       "    <tr>\n",
       "      <th>2</th>\n",
       "      <td>11.857297</td>\n",
       "      <td>11.392319</td>\n",
       "      <td>15.061656</td>\n",
       "      <td>7.184713</td>\n",
       "      <td>8.465475</td>\n",
       "      <td>13.927309</td>\n",
       "      <td>12.249868</td>\n",
       "      <td>NaN</td>\n",
       "      <td>NaN</td>\n",
       "      <td>NaN</td>\n",
       "      <td>...</td>\n",
       "      <td>0.291708</td>\n",
       "      <td>0.309919</td>\n",
       "      <td>0.223061</td>\n",
       "      <td>0.265975</td>\n",
       "      <td>0.293025</td>\n",
       "      <td>0.288711</td>\n",
       "      <td>NaN</td>\n",
       "      <td>NaN</td>\n",
       "      <td>NaN</td>\n",
       "      <td>3</td>\n",
       "    </tr>\n",
       "  </tbody>\n",
       "</table>\n",
       "<p>3 rows × 21 columns</p>\n",
       "</div>"
      ],
      "text/plain": [
       "   column_euc_0  column_euc_1  column_euc_2  column_euc_3  column_euc_4  \\\n",
       "0     14.563858     15.262212     17.398178     14.272491     13.339654   \n",
       "1     12.889506     12.285219     16.843704      8.361172     11.918098   \n",
       "2     11.857297     11.392319     15.061656      7.184713      8.465475   \n",
       "\n",
       "   column_euc_5  column_euc_6  column_euc_7  column_euc_8  column_euc_9  \\\n",
       "0      9.336262     15.720997           NaN           NaN           NaN   \n",
       "1     17.601221     14.929258           NaN           NaN           NaN   \n",
       "2     13.927309     12.249868           NaN           NaN           NaN   \n",
       "\n",
       "    ...    column_cos_1  column_cos_2  column_cos_3  column_cos_4  \\\n",
       "0   ...        0.364050      0.347755      0.394242      0.371025   \n",
       "1   ...        0.322620      0.355004      0.271561      0.392342   \n",
       "2   ...        0.291708      0.309919      0.223061      0.265975   \n",
       "\n",
       "   column_cos_5  column_cos_6  column_cos_7  column_cos_8  column_cos_9  \\\n",
       "0      0.185690      0.351921           NaN           NaN           NaN   \n",
       "1      0.384383      0.362597           NaN           NaN           NaN   \n",
       "2      0.293025      0.288711           NaN           NaN           NaN   \n",
       "\n",
       "   target  \n",
       "0       5  \n",
       "1       2  \n",
       "2       3  \n",
       "\n",
       "[3 rows x 21 columns]"
      ]
     },
     "execution_count": 8,
     "metadata": {},
     "output_type": "execute_result"
    }
   ],
   "source": [
    "train.head(3)"
   ]
  },
  {
   "cell_type": "code",
   "execution_count": 11,
   "metadata": {
    "collapsed": true
   },
   "outputs": [],
   "source": [
    "train.fillna(10000, inplace=True)"
   ]
  },
  {
   "cell_type": "code",
   "execution_count": 12,
   "metadata": {},
   "outputs": [
    {
     "data": {
      "text/html": [
       "<div>\n",
       "<style scoped>\n",
       "    .dataframe tbody tr th:only-of-type {\n",
       "        vertical-align: middle;\n",
       "    }\n",
       "\n",
       "    .dataframe tbody tr th {\n",
       "        vertical-align: top;\n",
       "    }\n",
       "\n",
       "    .dataframe thead th {\n",
       "        text-align: right;\n",
       "    }\n",
       "</style>\n",
       "<table border=\"1\" class=\"dataframe\">\n",
       "  <thead>\n",
       "    <tr style=\"text-align: right;\">\n",
       "      <th></th>\n",
       "      <th>0</th>\n",
       "      <th>1</th>\n",
       "      <th>2</th>\n",
       "    </tr>\n",
       "  </thead>\n",
       "  <tbody>\n",
       "    <tr>\n",
       "      <th>column_euc_0</th>\n",
       "      <td>14.563858</td>\n",
       "      <td>12.889506</td>\n",
       "      <td>11.857297</td>\n",
       "    </tr>\n",
       "    <tr>\n",
       "      <th>column_euc_1</th>\n",
       "      <td>15.262212</td>\n",
       "      <td>12.285219</td>\n",
       "      <td>11.392319</td>\n",
       "    </tr>\n",
       "    <tr>\n",
       "      <th>column_euc_2</th>\n",
       "      <td>17.398178</td>\n",
       "      <td>16.843704</td>\n",
       "      <td>15.061656</td>\n",
       "    </tr>\n",
       "    <tr>\n",
       "      <th>column_euc_3</th>\n",
       "      <td>14.272491</td>\n",
       "      <td>8.361172</td>\n",
       "      <td>7.184713</td>\n",
       "    </tr>\n",
       "    <tr>\n",
       "      <th>column_euc_4</th>\n",
       "      <td>13.339654</td>\n",
       "      <td>11.918098</td>\n",
       "      <td>8.465475</td>\n",
       "    </tr>\n",
       "    <tr>\n",
       "      <th>column_euc_5</th>\n",
       "      <td>9.336262</td>\n",
       "      <td>17.601221</td>\n",
       "      <td>13.927309</td>\n",
       "    </tr>\n",
       "    <tr>\n",
       "      <th>column_euc_6</th>\n",
       "      <td>15.720997</td>\n",
       "      <td>14.929258</td>\n",
       "      <td>12.249868</td>\n",
       "    </tr>\n",
       "    <tr>\n",
       "      <th>column_euc_7</th>\n",
       "      <td>10000.000000</td>\n",
       "      <td>10000.000000</td>\n",
       "      <td>10000.000000</td>\n",
       "    </tr>\n",
       "    <tr>\n",
       "      <th>column_euc_8</th>\n",
       "      <td>10000.000000</td>\n",
       "      <td>10000.000000</td>\n",
       "      <td>10000.000000</td>\n",
       "    </tr>\n",
       "    <tr>\n",
       "      <th>column_euc_9</th>\n",
       "      <td>10000.000000</td>\n",
       "      <td>10000.000000</td>\n",
       "      <td>10000.000000</td>\n",
       "    </tr>\n",
       "    <tr>\n",
       "      <th>column_cos_0</th>\n",
       "      <td>0.424736</td>\n",
       "      <td>0.454075</td>\n",
       "      <td>0.395858</td>\n",
       "    </tr>\n",
       "    <tr>\n",
       "      <th>column_cos_1</th>\n",
       "      <td>0.364050</td>\n",
       "      <td>0.322620</td>\n",
       "      <td>0.291708</td>\n",
       "    </tr>\n",
       "    <tr>\n",
       "      <th>column_cos_2</th>\n",
       "      <td>0.347755</td>\n",
       "      <td>0.355004</td>\n",
       "      <td>0.309919</td>\n",
       "    </tr>\n",
       "    <tr>\n",
       "      <th>column_cos_3</th>\n",
       "      <td>0.394242</td>\n",
       "      <td>0.271561</td>\n",
       "      <td>0.223061</td>\n",
       "    </tr>\n",
       "    <tr>\n",
       "      <th>column_cos_4</th>\n",
       "      <td>0.371025</td>\n",
       "      <td>0.392342</td>\n",
       "      <td>0.265975</td>\n",
       "    </tr>\n",
       "    <tr>\n",
       "      <th>column_cos_5</th>\n",
       "      <td>0.185690</td>\n",
       "      <td>0.384383</td>\n",
       "      <td>0.293025</td>\n",
       "    </tr>\n",
       "    <tr>\n",
       "      <th>column_cos_6</th>\n",
       "      <td>0.351921</td>\n",
       "      <td>0.362597</td>\n",
       "      <td>0.288711</td>\n",
       "    </tr>\n",
       "    <tr>\n",
       "      <th>column_cos_7</th>\n",
       "      <td>10000.000000</td>\n",
       "      <td>10000.000000</td>\n",
       "      <td>10000.000000</td>\n",
       "    </tr>\n",
       "    <tr>\n",
       "      <th>column_cos_8</th>\n",
       "      <td>10000.000000</td>\n",
       "      <td>10000.000000</td>\n",
       "      <td>10000.000000</td>\n",
       "    </tr>\n",
       "    <tr>\n",
       "      <th>column_cos_9</th>\n",
       "      <td>10000.000000</td>\n",
       "      <td>10000.000000</td>\n",
       "      <td>10000.000000</td>\n",
       "    </tr>\n",
       "    <tr>\n",
       "      <th>target</th>\n",
       "      <td>5.000000</td>\n",
       "      <td>2.000000</td>\n",
       "      <td>3.000000</td>\n",
       "    </tr>\n",
       "  </tbody>\n",
       "</table>\n",
       "</div>"
      ],
      "text/plain": [
       "                         0             1             2\n",
       "column_euc_0     14.563858     12.889506     11.857297\n",
       "column_euc_1     15.262212     12.285219     11.392319\n",
       "column_euc_2     17.398178     16.843704     15.061656\n",
       "column_euc_3     14.272491      8.361172      7.184713\n",
       "column_euc_4     13.339654     11.918098      8.465475\n",
       "column_euc_5      9.336262     17.601221     13.927309\n",
       "column_euc_6     15.720997     14.929258     12.249868\n",
       "column_euc_7  10000.000000  10000.000000  10000.000000\n",
       "column_euc_8  10000.000000  10000.000000  10000.000000\n",
       "column_euc_9  10000.000000  10000.000000  10000.000000\n",
       "column_cos_0      0.424736      0.454075      0.395858\n",
       "column_cos_1      0.364050      0.322620      0.291708\n",
       "column_cos_2      0.347755      0.355004      0.309919\n",
       "column_cos_3      0.394242      0.271561      0.223061\n",
       "column_cos_4      0.371025      0.392342      0.265975\n",
       "column_cos_5      0.185690      0.384383      0.293025\n",
       "column_cos_6      0.351921      0.362597      0.288711\n",
       "column_cos_7  10000.000000  10000.000000  10000.000000\n",
       "column_cos_8  10000.000000  10000.000000  10000.000000\n",
       "column_cos_9  10000.000000  10000.000000  10000.000000\n",
       "target            5.000000      2.000000      3.000000"
      ]
     },
     "execution_count": 12,
     "metadata": {},
     "output_type": "execute_result"
    }
   ],
   "source": [
    "train.head(3).transpose()"
   ]
  },
  {
   "cell_type": "markdown",
   "metadata": {},
   "source": [
    "### Fitting Multinomial Logistic Regression"
   ]
  },
  {
   "cell_type": "code",
   "execution_count": 13,
   "metadata": {
    "collapsed": true
   },
   "outputs": [],
   "source": [
    "train_x, test_x, train_y, test_y = train_test_split(train.iloc[:,:-1],\n",
    "train.iloc[:,-1], train_size=0.9, random_state = 5)"
   ]
  },
  {
   "cell_type": "code",
   "execution_count": 14,
   "metadata": {},
   "outputs": [
    {
     "name": "stdout",
     "output_type": "stream",
     "text": [
      "Multinomial Logistic regression Train Accuracy :  0.44610805801036457\n",
      "Multinomial Logistic regression Test Accuracy :  0.4538298872180451\n"
     ]
    }
   ],
   "source": [
    "# Train multinomial logistic regression model\n",
    "mul_lr = linear_model.LogisticRegression(multi_class='multinomial', solver='newton-cg', C=100)\n",
    "mul_lr.fit(train_x, train_y)\n",
    "\n",
    "print(\"Multinomial Logistic regression Train Accuracy : \", metrics.accuracy_score(train_y, mul_lr.predict(train_x)))\n",
    "print(\"Multinomial Logistic regression Test Accuracy : \", metrics.accuracy_score(test_y, mul_lr.predict(test_x)))\n"
   ]
  },
  {
   "cell_type": "code",
   "execution_count": null,
   "metadata": {
    "collapsed": true
   },
   "outputs": [],
   "source": []
  },
  {
   "cell_type": "code",
   "execution_count": null,
   "metadata": {
    "collapsed": true
   },
   "outputs": [],
   "source": []
  },
  {
   "cell_type": "code",
   "execution_count": null,
   "metadata": {
    "collapsed": true
   },
   "outputs": [],
   "source": []
  },
  {
   "cell_type": "code",
   "execution_count": null,
   "metadata": {
    "collapsed": true
   },
   "outputs": [],
   "source": []
  },
  {
   "cell_type": "code",
   "execution_count": null,
   "metadata": {
    "collapsed": true
   },
   "outputs": [],
   "source": []
  },
  {
   "cell_type": "code",
   "execution_count": null,
   "metadata": {
    "collapsed": true
   },
   "outputs": [],
   "source": []
  },
  {
   "cell_type": "code",
   "execution_count": null,
   "metadata": {
    "collapsed": true
   },
   "outputs": [],
   "source": []
  },
  {
   "cell_type": "code",
   "execution_count": null,
   "metadata": {
    "collapsed": true
   },
   "outputs": [],
   "source": []
  },
  {
   "cell_type": "code",
   "execution_count": null,
   "metadata": {
    "collapsed": true
   },
   "outputs": [],
   "source": []
  },
  {
   "cell_type": "code",
   "execution_count": null,
   "metadata": {
    "collapsed": true
   },
   "outputs": [],
   "source": []
  },
  {
   "cell_type": "code",
   "execution_count": null,
   "metadata": {
    "collapsed": true
   },
   "outputs": [],
   "source": []
  },
  {
   "cell_type": "code",
   "execution_count": null,
   "metadata": {
    "collapsed": true
   },
   "outputs": [],
   "source": []
  },
  {
   "cell_type": "code",
   "execution_count": null,
   "metadata": {
    "collapsed": true
   },
   "outputs": [],
   "source": []
  }
 ],
 "metadata": {
  "hide_input": false,
  "kernelspec": {
   "display_name": "Python 3",
   "language": "python",
   "name": "python3"
  },
  "language_info": {
   "codemirror_mode": {
    "name": "ipython",
    "version": 3
   },
   "file_extension": ".py",
   "mimetype": "text/x-python",
   "name": "python",
   "nbconvert_exporter": "python",
   "pygments_lexer": "ipython3",
   "version": "3.6.3"
  }
 },
 "nbformat": 4,
 "nbformat_minor": 2
}
