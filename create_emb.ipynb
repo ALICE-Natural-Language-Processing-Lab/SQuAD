{
 "cells": [
  {
   "cell_type": "code",
   "execution_count": 1,
   "metadata": {
    "collapsed": true
   },
   "outputs": [],
   "source": [
    "import warnings\n",
    "warnings.filterwarnings('ignore')\n",
    "import pickle\n",
    "import numpy as np\n",
    "import pandas as pd\n",
    "import json\n",
    "from textblob import TextBlob\n",
    "import nltk\n",
    "import torch"
   ]
  },
  {
   "cell_type": "markdown",
   "metadata": {},
   "source": [
    "## Convert Json to Pandas Dataframe"
   ]
  },
  {
   "cell_type": "code",
   "execution_count": 2,
   "metadata": {
    "collapsed": true
   },
   "outputs": [],
   "source": [
    "train = pd.read_json(\"data/train-v1.1.json\")"
   ]
  },
  {
   "cell_type": "code",
   "execution_count": 3,
   "metadata": {},
   "outputs": [
    {
     "data": {
      "text/plain": [
       "(442, 2)"
      ]
     },
     "execution_count": 3,
     "metadata": {},
     "output_type": "execute_result"
    }
   ],
   "source": [
    "train.shape"
   ]
  },
  {
   "cell_type": "code",
   "execution_count": 4,
   "metadata": {},
   "outputs": [
    {
     "data": {
      "text/html": [
       "<div>\n",
       "<style>\n",
       "    .dataframe thead tr:only-child th {\n",
       "        text-align: right;\n",
       "    }\n",
       "\n",
       "    .dataframe thead th {\n",
       "        text-align: left;\n",
       "    }\n",
       "\n",
       "    .dataframe tbody tr th {\n",
       "        vertical-align: top;\n",
       "    }\n",
       "</style>\n",
       "<table border=\"1\" class=\"dataframe\">\n",
       "  <thead>\n",
       "    <tr style=\"text-align: right;\">\n",
       "      <th></th>\n",
       "      <th>data</th>\n",
       "      <th>version</th>\n",
       "    </tr>\n",
       "  </thead>\n",
       "  <tbody>\n",
       "    <tr>\n",
       "      <th>0</th>\n",
       "      <td>{'title': 'University_of_Notre_Dame', 'paragra...</td>\n",
       "      <td>1.1</td>\n",
       "    </tr>\n",
       "    <tr>\n",
       "      <th>1</th>\n",
       "      <td>{'title': 'Beyoncé', 'paragraphs': [{'context'...</td>\n",
       "      <td>1.1</td>\n",
       "    </tr>\n",
       "    <tr>\n",
       "      <th>2</th>\n",
       "      <td>{'title': 'Montana', 'paragraphs': [{'context'...</td>\n",
       "      <td>1.1</td>\n",
       "    </tr>\n",
       "  </tbody>\n",
       "</table>\n",
       "</div>"
      ],
      "text/plain": [
       "                                                data  version\n",
       "0  {'title': 'University_of_Notre_Dame', 'paragra...      1.1\n",
       "1  {'title': 'Beyoncé', 'paragraphs': [{'context'...      1.1\n",
       "2  {'title': 'Montana', 'paragraphs': [{'context'...      1.1"
      ]
     },
     "execution_count": 4,
     "metadata": {},
     "output_type": "execute_result"
    }
   ],
   "source": [
    "train.head(3)"
   ]
  },
  {
   "cell_type": "code",
   "execution_count": 5,
   "metadata": {},
   "outputs": [
    {
     "data": {
      "text/plain": [
       "{'context': 'Beyoncé Giselle Knowles-Carter (/biːˈjɒnseɪ/ bee-YON-say) (born September 4, 1981) is an American singer, songwriter, record producer and actress. Born and raised in Houston, Texas, she performed in various singing and dancing competitions as a child, and rose to fame in the late 1990s as lead singer of R&B girl-group Destiny\\'s Child. Managed by her father, Mathew Knowles, the group became one of the world\\'s best-selling girl groups of all time. Their hiatus saw the release of Beyoncé\\'s debut album, Dangerously in Love (2003), which established her as a solo artist worldwide, earned five Grammy Awards and featured the Billboard Hot 100 number-one singles \"Crazy in Love\" and \"Baby Boy\".',\n",
       " 'qas': [{'answers': [{'answer_start': 269, 'text': 'in the late 1990s'}],\n",
       "   'id': '56be85543aeaaa14008c9063',\n",
       "   'question': 'When did Beyonce start becoming popular?'},\n",
       "  {'answers': [{'answer_start': 207, 'text': 'singing and dancing'}],\n",
       "   'id': '56be85543aeaaa14008c9065',\n",
       "   'question': 'What areas did Beyonce compete in when she was growing up?'},\n",
       "  {'answers': [{'answer_start': 526, 'text': '2003'}],\n",
       "   'id': '56be85543aeaaa14008c9066',\n",
       "   'question': \"When did Beyonce leave Destiny's Child and become a solo singer?\"},\n",
       "  {'answers': [{'answer_start': 166, 'text': 'Houston, Texas'}],\n",
       "   'id': '56bf6b0f3aeaaa14008c9601',\n",
       "   'question': 'In what city and state did Beyonce  grow up? '},\n",
       "  {'answers': [{'answer_start': 276, 'text': 'late 1990s'}],\n",
       "   'id': '56bf6b0f3aeaaa14008c9602',\n",
       "   'question': 'In which decade did Beyonce become famous?'},\n",
       "  {'answers': [{'answer_start': 320, 'text': \"Destiny's Child\"}],\n",
       "   'id': '56bf6b0f3aeaaa14008c9603',\n",
       "   'question': 'In what R&B group was she the lead singer?'},\n",
       "  {'answers': [{'answer_start': 505, 'text': 'Dangerously in Love'}],\n",
       "   'id': '56bf6b0f3aeaaa14008c9604',\n",
       "   'question': 'What album made her a worldwide known artist?'},\n",
       "  {'answers': [{'answer_start': 360, 'text': 'Mathew Knowles'}],\n",
       "   'id': '56bf6b0f3aeaaa14008c9605',\n",
       "   'question': \"Who managed the Destiny's Child group?\"},\n",
       "  {'answers': [{'answer_start': 166, 'text': 'Houston'}],\n",
       "   'id': '56cef8faaab44d1400b88d67',\n",
       "   'question': 'In what city did Beyonce grow up?'},\n",
       "  {'answers': [{'answer_start': 505, 'text': 'Dangerously in Love'}],\n",
       "   'id': '56cef8faaab44d1400b88d68',\n",
       "   'question': \"What was the name of Beyonce's first solo album?\"},\n",
       "  {'answers': [{'answer_start': 64, 'text': 'September 4, 1981'}],\n",
       "   'id': '56cef8faaab44d1400b88d6a',\n",
       "   'question': 'On what date was Beyonce born?'},\n",
       "  {'answers': [{'answer_start': 0, 'text': 'Beyoncé Giselle Knowles-Carter'}],\n",
       "   'id': '56cef8faaab44d1400b88d6b',\n",
       "   'question': \"What is Beyonce's full name?\"},\n",
       "  {'answers': [{'answer_start': 276, 'text': 'late 1990s'}],\n",
       "   'id': '56d43c5f2ccc5a1400d830a9',\n",
       "   'question': 'When did Beyoncé rise to fame?'},\n",
       "  {'answers': [{'answer_start': 290, 'text': 'lead singer'}],\n",
       "   'id': '56d43c5f2ccc5a1400d830aa',\n",
       "   'question': \"What role did Beyoncé have in Destiny's Child?\"},\n",
       "  {'answers': [{'answer_start': 505, 'text': 'Dangerously in Love'}],\n",
       "   'id': '56d43c5f2ccc5a1400d830ab',\n",
       "   'question': 'What was the first album Beyoncé released as a solo artist?'},\n",
       "  {'answers': [{'answer_start': 526, 'text': '2003'}],\n",
       "   'id': '56d43c5f2ccc5a1400d830ac',\n",
       "   'question': 'When did Beyoncé release Dangerously in Love?'},\n",
       "  {'answers': [{'answer_start': 590, 'text': 'five'}],\n",
       "   'id': '56d43c5f2ccc5a1400d830ad',\n",
       "   'question': 'How many Grammy awards did Beyoncé win for her first solo album?'},\n",
       "  {'answers': [{'answer_start': 290, 'text': 'lead singer'}],\n",
       "   'id': '56d43ce42ccc5a1400d830b4',\n",
       "   'question': \"What was Beyoncé's role in Destiny's Child?\"},\n",
       "  {'answers': [{'answer_start': 505, 'text': 'Dangerously in Love'}],\n",
       "   'id': '56d43ce42ccc5a1400d830b5',\n",
       "   'question': \"What was the name of Beyoncé's first solo album?\"},\n",
       "  {'answers': [{'answer_start': 526, 'text': '2003'}],\n",
       "   'id': '56d43ce42ccc5a1400d830b6',\n",
       "   'question': 'When did Beyoncé release her first solo album?'}]}"
      ]
     },
     "execution_count": 5,
     "metadata": {},
     "output_type": "execute_result"
    }
   ],
   "source": [
    "train.iloc[1,0]['paragraphs'][0]"
   ]
  },
  {
   "cell_type": "code",
   "execution_count": 6,
   "metadata": {
    "collapsed": true
   },
   "outputs": [],
   "source": [
    "contexts = []\n",
    "questions = []\n",
    "answers_text = []\n",
    "answers_start = []\n",
    "for i in range(100):\n",
    "    topic = train.iloc[i,0]['paragraphs']\n",
    "    for sub_para in topic:\n",
    "        for q_a in sub_para['qas']:\n",
    "            questions.append(q_a['question'])\n",
    "            answers_start.append(q_a['answers'][0]['answer_start'])\n",
    "            answers_text.append(q_a['answers'][0]['text'])\n",
    "            contexts.append(sub_para['context'])   \n",
    "df = pd.DataFrame({\"context\":contexts, \"question\": questions, \"answer_start\": answers_start, \"text\": answers_text})"
   ]
  },
  {
   "cell_type": "code",
   "execution_count": 7,
   "metadata": {},
   "outputs": [
    {
     "data": {
      "text/plain": [
       "(22618, 4)"
      ]
     },
     "execution_count": 7,
     "metadata": {},
     "output_type": "execute_result"
    }
   ],
   "source": [
    "df.shape"
   ]
  },
  {
   "cell_type": "code",
   "execution_count": 8,
   "metadata": {
    "collapsed": true
   },
   "outputs": [],
   "source": [
    "df.to_csv(\"data/train.csv\", index = None)"
   ]
  },
  {
   "cell_type": "markdown",
   "metadata": {},
   "source": [
    "## Create dictionary of sentence embeddings for faster computation"
   ]
  },
  {
   "cell_type": "code",
   "execution_count": 9,
   "metadata": {
    "collapsed": true
   },
   "outputs": [],
   "source": [
    "paras = list(df[\"context\"].drop_duplicates().reset_index(drop= True))"
   ]
  },
  {
   "cell_type": "code",
   "execution_count": 10,
   "metadata": {},
   "outputs": [
    {
     "data": {
      "text/plain": [
       "5068"
      ]
     },
     "execution_count": 10,
     "metadata": {},
     "output_type": "execute_result"
    }
   ],
   "source": [
    "len(paras)"
   ]
  },
  {
   "cell_type": "code",
   "execution_count": 11,
   "metadata": {
    "collapsed": true
   },
   "outputs": [],
   "source": [
    "blob = TextBlob(\" \".join(paras))\n",
    "sentences = [item.raw for item in blob.sentences]"
   ]
  },
  {
   "cell_type": "code",
   "execution_count": 12,
   "metadata": {},
   "outputs": [
    {
     "data": {
      "text/plain": [
       "20075"
      ]
     },
     "execution_count": 12,
     "metadata": {},
     "output_type": "execute_result"
    }
   ],
   "source": [
    "len(sentences)"
   ]
  },
  {
   "cell_type": "code",
   "execution_count": 13,
   "metadata": {
    "collapsed": true
   },
   "outputs": [],
   "source": [
    "infersent = torch.load('InferSent/encoder/infersent.allnli.pickle', map_location=lambda storage, loc: storage)\n",
    "infersent.set_glove_path(\"InferSent/dataset/GloVe/glove.840B.300d.txt\")"
   ]
  },
  {
   "cell_type": "code",
   "execution_count": 14,
   "metadata": {},
   "outputs": [
    {
     "name": "stdout",
     "output_type": "stream",
     "text": [
      "Found 37124(/42258) words with glove vectors\n",
      "Vocab size : 37124\n"
     ]
    }
   ],
   "source": [
    "infersent.build_vocab(sentences, tokenize=True)"
   ]
  },
  {
   "cell_type": "code",
   "execution_count": null,
   "metadata": {
    "collapsed": true
   },
   "outputs": [],
   "source": [
    "dict_embeddings = {}\n",
    "for i in range(len(sentences)):   \n",
    "    dict_embeddings[sentences[i]] = infersent.encode([sentences[i]], tokenize=True)"
   ]
  },
  {
   "cell_type": "code",
   "execution_count": 17,
   "metadata": {
    "collapsed": true
   },
   "outputs": [],
   "source": [
    "with open('data/dict_embeddings.pickle', 'wb') as handle:\n",
    "    pickle.dump(dict_embeddings, handle, protocol=pickle.HIGHEST_PROTOCOL)"
   ]
  },
  {
   "cell_type": "code",
   "execution_count": null,
   "metadata": {
    "collapsed": true
   },
   "outputs": [],
   "source": []
  },
  {
   "cell_type": "code",
   "execution_count": null,
   "metadata": {
    "collapsed": true
   },
   "outputs": [],
   "source": []
  },
  {
   "cell_type": "code",
   "execution_count": null,
   "metadata": {
    "collapsed": true
   },
   "outputs": [],
   "source": []
  },
  {
   "cell_type": "code",
   "execution_count": null,
   "metadata": {
    "collapsed": true
   },
   "outputs": [],
   "source": []
  },
  {
   "cell_type": "code",
   "execution_count": null,
   "metadata": {
    "collapsed": true
   },
   "outputs": [],
   "source": []
  },
  {
   "cell_type": "code",
   "execution_count": null,
   "metadata": {
    "collapsed": true
   },
   "outputs": [],
   "source": []
  },
  {
   "cell_type": "code",
   "execution_count": null,
   "metadata": {
    "collapsed": true
   },
   "outputs": [],
   "source": []
  },
  {
   "cell_type": "code",
   "execution_count": null,
   "metadata": {
    "collapsed": true
   },
   "outputs": [],
   "source": []
  },
  {
   "cell_type": "code",
   "execution_count": null,
   "metadata": {
    "collapsed": true
   },
   "outputs": [],
   "source": []
  },
  {
   "cell_type": "code",
   "execution_count": null,
   "metadata": {
    "collapsed": true
   },
   "outputs": [],
   "source": []
  },
  {
   "cell_type": "code",
   "execution_count": null,
   "metadata": {
    "collapsed": true
   },
   "outputs": [],
   "source": []
  },
  {
   "cell_type": "code",
   "execution_count": null,
   "metadata": {
    "collapsed": true
   },
   "outputs": [],
   "source": []
  },
  {
   "cell_type": "code",
   "execution_count": null,
   "metadata": {
    "collapsed": true
   },
   "outputs": [],
   "source": []
  },
  {
   "cell_type": "code",
   "execution_count": null,
   "metadata": {
    "collapsed": true
   },
   "outputs": [],
   "source": []
  },
  {
   "cell_type": "code",
   "execution_count": null,
   "metadata": {
    "collapsed": true
   },
   "outputs": [],
   "source": []
  },
  {
   "cell_type": "code",
   "execution_count": null,
   "metadata": {
    "collapsed": true
   },
   "outputs": [],
   "source": []
  }
 ],
 "metadata": {
  "hide_input": false,
  "kernelspec": {
   "display_name": "Python 3",
   "language": "python",
   "name": "python3"
  },
  "language_info": {
   "codemirror_mode": {
    "name": "ipython",
    "version": 3
   },
   "file_extension": ".py",
   "mimetype": "text/x-python",
   "name": "python",
   "nbconvert_exporter": "python",
   "pygments_lexer": "ipython3",
   "version": "3.6.3"
  }
 },
 "nbformat": 4,
 "nbformat_minor": 2
}
